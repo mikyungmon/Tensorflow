{
 "cells": [
  {
   "cell_type": "markdown",
   "id": "416616e1",
   "metadata": {},
   "source": [
    "1️⃣ 간단한 분류 모델 구현하기"
   ]
  },
  {
   "cell_type": "code",
   "execution_count": 5,
   "id": "4107be6b",
   "metadata": {},
   "outputs": [
    {
     "name": "stdout",
     "output_type": "stream",
     "text": [
      "10 1.2101551\n",
      "20 1.2018348\n",
      "30 1.1937122\n",
      "40 1.1857837\n",
      "50 1.1780449\n",
      "60 1.1704919\n",
      "70 1.1631206\n",
      "80 1.155927\n",
      "90 1.1491884\n",
      "100 1.1444427\n",
      "예측값:  [0 0 1 0 0 1]\n",
      "실제값:  [0 1 2 0 0 2]\n",
      "정확도: 50.00\n"
     ]
    }
   ],
   "source": [
    "import tensorflow as tf\n",
    "import numpy as np\n",
    "\n",
    "x_data = np.array([[0,0], [1,0], [1,1], [0,0], [0,0], [0,1]])\n",
    "y_data = np.array([[1,0,0], [0,1,0], [0,0,1], [1,0,0], [1,0,0], [0,0,1]])\n",
    "\n",
    "X = tf.placeholder(tf.float32)\n",
    "Y = tf.placeholder(tf.float32)\n",
    "\n",
    "W = tf.Variable(tf.random_uniform([2,3], -1. , 1.))\n",
    "b = tf.Variable(tf.zeros([3]))\n",
    "\n",
    "L = tf.add(tf.matmul(X,W),b)\n",
    "L = tf.nn.relu(L)\n",
    "\n",
    "model = tf.nn.softmax(L)\n",
    "cost = tf.reduce_mean(-tf.reduce_sum(Y * tf.log(model), axis =1))\n",
    "\n",
    "optimizer = tf.train.GradientDescentOptimizer(learning_rate = 0.01)\n",
    "train_op = optimizer.minimize(cost)\n",
    "\n",
    "init = tf.global_variables_initializer()\n",
    "sess = tf.Session()\n",
    "sess.run(init)\n",
    "\n",
    "for step in range(100):\n",
    "    sess.run(train_op, feed_dict = {X:x_data, Y:y_data})\n",
    "  \n",
    "    if (step+1) % 10 == 0:\n",
    "        print(step +1, sess.run(cost, feed_dict = {X:x_data, Y:y_data}))\n",
    "    \n",
    "prediction = tf.argmax(model, axis =1)\n",
    "target = tf.argmax(Y, axis =1)\n",
    "print('예측값: ', sess.run(prediction, feed_dict = {X:x_data}))\n",
    "print('실제값: ', sess.run(target, feed_dict = {Y:y_data}))\n",
    "\n",
    "is_correct = tf.equal(prediction, target)\n",
    "accuracy = tf.reduce_mean(tf.cast(is_correct, tf.float32))\n",
    "print('정확도: %.2f' % sess.run(accuracy *100, feed_dict={X:x_data, Y:y_data}))"
   ]
  },
  {
   "cell_type": "markdown",
   "id": "9e0fe4b4",
   "metadata": {},
   "source": [
    "2️⃣ 심층 신경망 구현하기"
   ]
  },
  {
   "cell_type": "code",
   "execution_count": 6,
   "id": "adb9129b",
   "metadata": {},
   "outputs": [
    {
     "name": "stdout",
     "output_type": "stream",
     "text": [
      "10 0.8004723\n",
      "20 0.6496088\n",
      "30 0.5170767\n",
      "40 0.39914906\n",
      "50 0.30246535\n",
      "60 0.22723998\n",
      "70 0.17133902\n",
      "80 0.13026294\n",
      "90 0.099573664\n",
      "100 0.077019624\n",
      "예측값:  [0 1 2 0 0 2]\n",
      "실제값:  [0 1 2 0 0 2]\n",
      "정확도: 100.00\n"
     ]
    }
   ],
   "source": [
    "import tensorflow as tf\n",
    "import numpy as np\n",
    "\n",
    "x_data = np.array([[0,0], [1,0], [1,1], [0,0], [0,0], [0,1]])\n",
    "y_data = np.array([[1,0,0], [0,1,0], [0,0,1], [1,0,0], [1,0,0], [0,0,1]])\n",
    "\n",
    "X = tf.placeholder(tf.float32)\n",
    "Y = tf.placeholder(tf.float32)  \n",
    "\n",
    "W1 = tf.Variable(tf.random_uniform([2,10], -1. , 1.))\n",
    "W2 = tf.Variable(tf.random_uniform([10,3], -1. , 1.))\n",
    "\n",
    "b1 = tf.Variable(tf.zeros([10]))\n",
    "b2 = tf.Variable(tf.zeros([3])) \n",
    "\n",
    "L1 = tf.add(tf.matmul(X,W1), b1)\n",
    "L1 = tf.nn.relu(L1)  \n",
    "\n",
    "model = tf.add(tf.matmul(L1,W2), b2)\n",
    "\n",
    "cost = tf.reduce_mean(tf.nn.softmax_cross_entropy_with_logits_v2(labels = Y, logits = model))\n",
    "\n",
    "optimizer = tf.train.AdamOptimizer(learning_rate = 0.01)   # 경사하강법보다 보편적으로 성능이 좋음\n",
    "train_op = optimizer.minimize(cost)   \n",
    "\n",
    "init = tf.global_variables_initializer()\n",
    "sess = tf.Session()\n",
    "sess.run(init)\n",
    "\n",
    "for step in range(100):\n",
    "    sess.run(train_op, feed_dict = {X:x_data, Y:y_data})\n",
    "  \n",
    "    if (step+1) % 10 == 0:\n",
    "        print(step +1, sess.run(cost, feed_dict = {X:x_data, Y:y_data}))\n",
    "    \n",
    "prediction = tf.argmax(model, axis =1)\n",
    "target = tf.argmax(Y, axis =1)\n",
    "print('예측값: ', sess.run(prediction, feed_dict = {X:x_data}))\n",
    "print('실제값: ', sess.run(target, feed_dict = {Y:y_data}))\n",
    "\n",
    "is_correct = tf.equal(prediction, target)\n",
    "accuracy = tf.reduce_mean(tf.cast(is_correct, tf.float32))\n",
    "print('정확도: %.2f' % sess.run(accuracy *100, feed_dict={X:x_data, Y:y_data})) "
   ]
  }
 ],
 "metadata": {
  "kernelspec": {
   "display_name": "tensorflow",
   "language": "python",
   "name": "tensorflow"
  },
  "language_info": {
   "codemirror_mode": {
    "name": "ipython",
    "version": 3
   },
   "file_extension": ".py",
   "mimetype": "text/x-python",
   "name": "python",
   "nbconvert_exporter": "python",
   "pygments_lexer": "ipython3",
   "version": "3.6.13"
  }
 },
 "nbformat": 4,
 "nbformat_minor": 5
}
