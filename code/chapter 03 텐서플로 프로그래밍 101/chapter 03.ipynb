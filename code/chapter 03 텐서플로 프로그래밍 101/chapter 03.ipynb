{
 "cells": [
  {
   "cell_type": "markdown",
   "id": "eafca1fc",
   "metadata": {},
   "source": [
    "# chapter 03"
   ]
  },
  {
   "cell_type": "markdown",
   "id": "693fc2fb",
   "metadata": {},
   "source": [
    "1️⃣ 텐서와 그래프 실행"
   ]
  },
  {
   "cell_type": "code",
   "execution_count": 1,
   "id": "ac755afa",
   "metadata": {},
   "outputs": [
    {
     "name": "stdout",
     "output_type": "stream",
     "text": [
      "Tensor(\"Const:0\", shape=(), dtype=string)\n",
      "Tensor(\"Add:0\", shape=(), dtype=int32)\n",
      "b'Hello, TensorFlow!'\n",
      "[10, 32, 42]\n"
     ]
    }
   ],
   "source": [
    "import tensorflow as tf\n",
    "\n",
    "hello = tf.constant('Hello, TensorFlow!')\n",
    "print(hello)\n",
    "\n",
    "a = tf.constant(10)\n",
    "b = tf.constant(32)\n",
    "c = tf.add(a,b)\n",
    "print(c)\n",
    "\n",
    "# 그래프 실행\n",
    "sess = tf.Session()\n",
    "print(sess.run(hello))\n",
    "print(sess.run([a,b,c]))\n",
    "\n",
    "sess.close()"
   ]
  },
  {
   "cell_type": "markdown",
   "id": "aa36c7da",
   "metadata": {},
   "source": [
    "2️⃣ 플레이스홀더와 변수"
   ]
  },
  {
   "cell_type": "code",
   "execution_count": 3,
   "id": "851d22f6",
   "metadata": {},
   "outputs": [
    {
     "name": "stdout",
     "output_type": "stream",
     "text": [
      "=== x_data ===\n",
      "[[1, 2, 3], [4, 5, 6]]\n",
      "=== W ===\n",
      "[[-0.3338466  -1.4056395 ]\n",
      " [ 0.5728016   1.9409125 ]\n",
      " [ 0.19583647 -1.2463832 ]]\n",
      "=== b ===\n",
      "[[-0.6285378 ]\n",
      " [-0.07378067]]\n",
      "=== expr ===\n",
      "[[ 0.77072823 -1.891502  ]\n",
      " [ 2.6298597  -3.4700758 ]]\n"
     ]
    }
   ],
   "source": [
    "import tensorflow as tf\n",
    "\n",
    "X = tf.placeholder(tf.float32, [None,3])\n",
    "\n",
    "x_data = [[1,2,3],[4,5,6]]\n",
    "\n",
    "W = tf.Variable(tf.random_normal([3,2]))\n",
    "b = tf.Variable(tf.random_normal([2,1]))\n",
    "\n",
    "expr = tf.matmul(X,W) + b\n",
    "\n",
    "sess = tf.Session()\n",
    "sess.run(tf.global_variables_initializer())\n",
    "\n",
    "print(\"=== x_data ===\")\n",
    "print(x_data)\n",
    "print(\"=== W ===\")\n",
    "print(sess.run(W))\n",
    "print(\"=== b ===\")\n",
    "print(sess.run(b))\n",
    "print(\"=== expr ===\")\n",
    "print(sess.run(expr,feed_dict = {X:x_data}))\n",
    "\n",
    "sess.close()"
   ]
  },
  {
   "cell_type": "markdown",
   "id": "5bab584b",
   "metadata": {},
   "source": [
    "3️⃣ 선형 회귀 모델 구현하기"
   ]
  },
  {
   "cell_type": "code",
   "execution_count": 8,
   "id": "24812c3b",
   "metadata": {},
   "outputs": [
    {
     "name": "stdout",
     "output_type": "stream",
     "text": [
      "99 0.00017405786 [0.9850454] [0.03399533]\n",
      "\n",
      " === Test ===\n",
      "X:5, Y: [4.959222]\n",
      "X:2.5, Y: [2.4966087]\n"
     ]
    }
   ],
   "source": [
    "import tensorflow as tf\n",
    "\n",
    "x_data = [1,2,3]\n",
    "y_data = [1,2,3]\n",
    "\n",
    "W = tf.Variable(tf.random_uniform([1],-1.0,1.0))  # -1.0 ~ 1.0 사이의 균등분포를 가진 무작위 값으로 초기화\n",
    "b = tf.Variable(tf.random_uniform([1],-1.0,1.0))\n",
    "\n",
    "X = tf.placeholder(tf.float32, name = \"X\")\n",
    "Y = tf.placeholder(tf.float32, name = \"Y\")\n",
    "\n",
    "hypothesis = W * X + b\n",
    "\n",
    "cost = tf.reduce_mean(tf.square(hypothesis - Y))\n",
    "optimizer = tf.train.GradientDescentOptimizer(learning_rate = 0.1)\n",
    "train_op = optimizer.minimize(cost)\n",
    "\n",
    "with tf.Session() as sess:\n",
    "    sess.run(tf.global_variables_initializer())\n",
    "    \n",
    "    for step in range(100):\n",
    "        _, cost_val = sess.run([train_op, cost], feed_dict = {X:x_data, Y:y_data})\n",
    "        \n",
    "    print(step, cost_val, sess.run(W), sess.run(b))\n",
    "\n",
    "    \n",
    "    print(\"\\n === Test ===\")\n",
    "    print(\"X:5, Y:\", sess.run(hypothesis, feed_dict= {X:5}))\n",
    "    print(\"X:2.5, Y:\", sess.run(hypothesis, feed_dict= {X:2.5}))"
   ]
  }
 ],
 "metadata": {
  "kernelspec": {
   "display_name": "tensorflow",
   "language": "python",
   "name": "tensorflow"
  },
  "language_info": {
   "codemirror_mode": {
    "name": "ipython",
    "version": 3
   },
   "file_extension": ".py",
   "mimetype": "text/x-python",
   "name": "python",
   "nbconvert_exporter": "python",
   "pygments_lexer": "ipython3",
   "version": "3.6.13"
  }
 },
 "nbformat": 4,
 "nbformat_minor": 5
}
